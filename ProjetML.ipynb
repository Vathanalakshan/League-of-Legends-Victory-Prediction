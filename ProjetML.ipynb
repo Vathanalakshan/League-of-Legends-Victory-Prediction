{
 "cells": [
  {
   "cell_type": "markdown",
   "metadata": {},
   "source": [
    "# IMPORT DATA AND PACKAGES\n"
   ]
  },
  {
   "cell_type": "code",
   "execution_count": 152,
   "metadata": {},
   "outputs": [
    {
     "name": "stdout",
     "output_type": "stream",
     "text": [
      "(1913, 87)\n"
     ]
    }
   ],
   "source": [
    "import numpy as np\n",
    "import matplotlib.pyplot as plt\n",
    "from sklearn.tree import DecisionTreeClassifier,export_graphviz\n",
    "from sklearn.model_selection import train_test_split,cross_val_score,learning_curve\n",
    "from sklearn.decomposition import PCA\n",
    "import pandas as pd\n",
    "import matplotlib.pyplot as plt\n",
    "import seaborn as sns; sns.set()\n",
    "import pydot \n",
    "import graphviz\n",
    "from sklearn import tree\n",
    "from sklearn.metrics import confusion_matrix,classification_report\n",
    "from sklearn.preprocessing import StandardScaler,MinMaxScaler\n",
    "\n",
    "data=pd.read_csv('challenger108')\n",
    "data=data.drop(['vilemaw_kills_team_1', 'vilemaw_kills_team_2'], axis=1)\n",
    "print(data.shape)\n"
   ]
  },
  {
   "cell_type": "markdown",
   "metadata": {},
   "source": [
    "# PREPROCESSING 1"
   ]
  },
  {
   "cell_type": "markdown",
   "metadata": {},
   "source": [
    "Elimination des doublons"
   ]
  },
  {
   "cell_type": "code",
   "execution_count": 153,
   "metadata": {},
   "outputs": [],
   "source": [
    "#data=data.drop_duplicates()\n",
    "#print(data.shape)"
   ]
  },
  {
   "cell_type": "markdown",
   "metadata": {},
   "source": [
    "Elimination des ligne avec des données erroné"
   ]
  },
  {
   "cell_type": "code",
   "execution_count": 154,
   "metadata": {},
   "outputs": [
    {
     "name": "stdout",
     "output_type": "stream",
     "text": [
      "(1224, 87)\n"
     ]
    }
   ],
   "source": [
    "kill=[\"kills_top_team_1\",\"kills_top_team_2\",\"kills_bottom_duo_support_team_2\",\"kills_bottom_duo_support_team_1\",\"kills_bottom_duo_carry_team_2\",\"kills_bottom_duo_carry_team_1\",\"kills_middle_team_1\",\"kills_middle_team_2\",\"kills_jungle_team_1\",\"kills_jungle_team_2\"]\n",
    "k=[]\n",
    "for i, row in data.iterrows():\n",
    "    for j in kill:\n",
    "        if (row[j] > 40):\n",
    "            k.append(i)\n",
    "            break\n",
    "data=data.drop(k,axis=0).reindex()\n",
    "print(data.shape)"
   ]
  },
  {
   "cell_type": "markdown",
   "metadata": {},
   "source": [
    "Definiton train set, validation set, et test set."
   ]
  },
  {
   "cell_type": "code",
   "execution_count": 155,
   "metadata": {},
   "outputs": [
    {
     "name": "stdout",
     "output_type": "stream",
     "text": [
      "(979,)\n"
     ]
    },
    {
     "data": {
      "image/png": "[encoded data removed]",
      "text/plain": [
       "<Figure size 432x288 with 1 Axes>"
      ]
     },
     "metadata": {},
     "output_type": "display_data"
    }
   ],
   "source": [
    "features = data.drop('win',axis='columns')\n",
    "label = data[\"win\"]\n",
    "x_train,x_test,y_train,y_test=train_test_split(features,label,test_size=0.2)\n",
    "sns.distplot(y_train,kde =False,).set_title(\"Repartiton des y_train\")\n",
    "print(y_train.shape)"
   ]
  },
  {
   "cell_type": "code",
   "execution_count": 156,
   "metadata": {},
   "outputs": [
    {
     "name": "stdout",
     "output_type": "stream",
     "text": [
      "(245,)\n"
     ]
    },
    {
     "data": {
      "image/png": "[encoded data removed]",
      "text/plain": [
       "<Figure size 432x288 with 1 Axes>"
      ]
     },
     "metadata": {},
     "output_type": "display_data"
    }
   ],
   "source": [
    "sns.distplot(y_test,kde =False,).set_title(\"Repartiton des y_test\")\n",
    "print(y_test.shape)"
   ]
  },
  {
   "cell_type": "markdown",
   "metadata": {},
   "source": [
    "# DATA VISUALISATION"
   ]
  },
  {
   "cell_type": "code",
   "execution_count": 157,
   "metadata": {},
   "outputs": [
    {
     "data": {
      "text/html": [
       "<div>\n",
       "<style scoped>\n",
       "    .dataframe tbody tr th:only-of-type {\n",
       "        vertical-align: middle;\n",
       "    }\n",
       "\n",
       "    .dataframe tbody tr th {\n",
       "        vertical-align: top;\n",
       "    }\n",
       "\n",
       "    .dataframe thead th {\n",
       "        text-align: right;\n",
       "    }\n",
       "</style>\n",
       "<table border=\"1\" class=\"dataframe\">\n",
       "  <thead>\n",
       "    <tr style=\"text-align: right;\">\n",
       "      <th></th>\n",
       "      <th>win</th>\n",
       "      <th>first_blood</th>\n",
       "      <th>first_tower</th>\n",
       "      <th>first_inhibitor</th>\n",
       "      <th>first_baron</th>\n",
       "      <th>first_dragon</th>\n",
       "      <th>first_rift_herald</th>\n",
       "      <th>tower_kills_team_1</th>\n",
       "      <th>inhibitor_kills_team_1</th>\n",
       "      <th>baron_kills_team_1</th>\n",
       "      <th>...</th>\n",
       "      <th>cs_20m_bottom_duo_support_team_2</th>\n",
       "      <th>xp_20m_bottom_duo_support_team_2</th>\n",
       "      <th>damege_taken_20m_bottom_duo_support_team_2</th>\n",
       "      <th>kills_bottom_duo_carry_team_2</th>\n",
       "      <th>assists_bottom_duo_carry_team_2</th>\n",
       "      <th>deaths_bottom_duo_carry_team_2</th>\n",
       "      <th>gold_earned_20m_bottom_duo_carry_team_2</th>\n",
       "      <th>cs_20m_bottom_duo_carry_team_2</th>\n",
       "      <th>xp_20m_bottom_duo_carry_team_2</th>\n",
       "      <th>damege_taken_20m_bottom_duo_carry_team_2</th>\n",
       "    </tr>\n",
       "  </thead>\n",
       "  <tbody>\n",
       "    <tr>\n",
       "      <th>0</th>\n",
       "      <td>1</td>\n",
       "      <td>1</td>\n",
       "      <td>0</td>\n",
       "      <td>0</td>\n",
       "      <td>0</td>\n",
       "      <td>2</td>\n",
       "      <td>1</td>\n",
       "      <td>6</td>\n",
       "      <td>0</td>\n",
       "      <td>0</td>\n",
       "      <td>...</td>\n",
       "      <td>0.5</td>\n",
       "      <td>204.8</td>\n",
       "      <td>836.5</td>\n",
       "      <td>2.0</td>\n",
       "      <td>3.0</td>\n",
       "      <td>7.0</td>\n",
       "      <td>261.0</td>\n",
       "      <td>5.4</td>\n",
       "      <td>352.7</td>\n",
       "      <td>867.3</td>\n",
       "    </tr>\n",
       "    <tr>\n",
       "      <th>1</th>\n",
       "      <td>1</td>\n",
       "      <td>2</td>\n",
       "      <td>0</td>\n",
       "      <td>1</td>\n",
       "      <td>1</td>\n",
       "      <td>2</td>\n",
       "      <td>1</td>\n",
       "      <td>8</td>\n",
       "      <td>1</td>\n",
       "      <td>1</td>\n",
       "      <td>...</td>\n",
       "      <td>1.6</td>\n",
       "      <td>276.7</td>\n",
       "      <td>933.6</td>\n",
       "      <td>6.0</td>\n",
       "      <td>3.0</td>\n",
       "      <td>6.0</td>\n",
       "      <td>486.5</td>\n",
       "      <td>6.4</td>\n",
       "      <td>521.9</td>\n",
       "      <td>525.0</td>\n",
       "    </tr>\n",
       "    <tr>\n",
       "      <th>3</th>\n",
       "      <td>1</td>\n",
       "      <td>1</td>\n",
       "      <td>0</td>\n",
       "      <td>1</td>\n",
       "      <td>1</td>\n",
       "      <td>2</td>\n",
       "      <td>1</td>\n",
       "      <td>10</td>\n",
       "      <td>3</td>\n",
       "      <td>1</td>\n",
       "      <td>...</td>\n",
       "      <td>1.8</td>\n",
       "      <td>501.4</td>\n",
       "      <td>789.1</td>\n",
       "      <td>5.0</td>\n",
       "      <td>7.0</td>\n",
       "      <td>6.0</td>\n",
       "      <td>488.0</td>\n",
       "      <td>6.4</td>\n",
       "      <td>512.3</td>\n",
       "      <td>798.3</td>\n",
       "    </tr>\n",
       "    <tr>\n",
       "      <th>4</th>\n",
       "      <td>2</td>\n",
       "      <td>1</td>\n",
       "      <td>0</td>\n",
       "      <td>2</td>\n",
       "      <td>1</td>\n",
       "      <td>1</td>\n",
       "      <td>1</td>\n",
       "      <td>5</td>\n",
       "      <td>0</td>\n",
       "      <td>1</td>\n",
       "      <td>...</td>\n",
       "      <td>2.6</td>\n",
       "      <td>413.1</td>\n",
       "      <td>214.4</td>\n",
       "      <td>4.0</td>\n",
       "      <td>23.0</td>\n",
       "      <td>10.0</td>\n",
       "      <td>346.8</td>\n",
       "      <td>3.1</td>\n",
       "      <td>440.2</td>\n",
       "      <td>1078.0</td>\n",
       "    </tr>\n",
       "    <tr>\n",
       "      <th>5</th>\n",
       "      <td>1</td>\n",
       "      <td>2</td>\n",
       "      <td>2</td>\n",
       "      <td>1</td>\n",
       "      <td>1</td>\n",
       "      <td>1</td>\n",
       "      <td>2</td>\n",
       "      <td>8</td>\n",
       "      <td>2</td>\n",
       "      <td>2</td>\n",
       "      <td>...</td>\n",
       "      <td>1.5</td>\n",
       "      <td>291.1</td>\n",
       "      <td>276.7</td>\n",
       "      <td>7.0</td>\n",
       "      <td>8.0</td>\n",
       "      <td>8.0</td>\n",
       "      <td>465.7</td>\n",
       "      <td>9.3</td>\n",
       "      <td>520.8</td>\n",
       "      <td>300.5</td>\n",
       "    </tr>\n",
       "  </tbody>\n",
       "</table>\n",
       "<p>5 rows × 87 columns</p>\n",
       "</div>"
      ],
      "text/plain": [
       "   win  first_blood  first_tower  first_inhibitor  first_baron  first_dragon  \\\n",
       "0    1            1            0                0            0             2   \n",
       "1    1            2            0                1            1             2   \n",
       "3    1            1            0                1            1             2   \n",
       "4    2            1            0                2            1             1   \n",
       "5    1            2            2                1            1             1   \n",
       "\n",
       "   first_rift_herald  tower_kills_team_1  inhibitor_kills_team_1  \\\n",
       "0                  1                   6                       0   \n",
       "1                  1                   8                       1   \n",
       "3                  1                  10                       3   \n",
       "4                  1                   5                       0   \n",
       "5                  2                   8                       2   \n",
       "\n",
       "   baron_kills_team_1  ...  cs_20m_bottom_duo_support_team_2  \\\n",
       "0                   0  ...                               0.5   \n",
       "1                   1  ...                               1.6   \n",
       "3                   1  ...                               1.8   \n",
       "4                   1  ...                               2.6   \n",
       "5                   2  ...                               1.5   \n",
       "\n",
       "   xp_20m_bottom_duo_support_team_2  \\\n",
       "0                             204.8   \n",
       "1                             276.7   \n",
       "3                             501.4   \n",
       "4                             413.1   \n",
       "5                             291.1   \n",
       "\n",
       "   damege_taken_20m_bottom_duo_support_team_2  kills_bottom_duo_carry_team_2  \\\n",
       "0                                       836.5                            2.0   \n",
       "1                                       933.6                            6.0   \n",
       "3                                       789.1                            5.0   \n",
       "4                                       214.4                            4.0   \n",
       "5                                       276.7                            7.0   \n",
       "\n",
       "   assists_bottom_duo_carry_team_2  deaths_bottom_duo_carry_team_2  \\\n",
       "0                              3.0                             7.0   \n",
       "1                              3.0                             6.0   \n",
       "3                              7.0                             6.0   \n",
       "4                             23.0                            10.0   \n",
       "5                              8.0                             8.0   \n",
       "\n",
       "   gold_earned_20m_bottom_duo_carry_team_2  cs_20m_bottom_duo_carry_team_2  \\\n",
       "0                                    261.0                             5.4   \n",
       "1                                    486.5                             6.4   \n",
       "3                                    488.0                             6.4   \n",
       "4                                    346.8                             3.1   \n",
       "5                                    465.7                             9.3   \n",
       "\n",
       "   xp_20m_bottom_duo_carry_team_2  damege_taken_20m_bottom_duo_carry_team_2  \n",
       "0                           352.7                                     867.3  \n",
       "1                           521.9                                     525.0  \n",
       "3                           512.3                                     798.3  \n",
       "4                           440.2                                    1078.0  \n",
       "5                           520.8                                     300.5  \n",
       "\n",
       "[5 rows x 87 columns]"
      ]
     },
     "execution_count": 157,
     "metadata": {},
     "output_type": "execute_result"
    }
   ],
   "source": [
    "data.head(5)\n",
    "#Les saut des index sont du au ligne qu'on a supprimés"
   ]
  },
  {
   "cell_type": "code",
   "execution_count": 158,
   "metadata": {},
   "outputs": [
    {
     "data": {
      "text/plain": [
       "Text(0.5, 1.0, 'Repartion des victioires')"
      ]
     },
     "execution_count": 158,
     "metadata": {},
     "output_type": "execute_result"
    },
    {
     "data": {
      "image/png": "[encoded data removed]",
      "text/plain": [
       "<Figure size 432x288 with 1 Axes>"
      ]
     },
     "metadata": {},
     "output_type": "display_data"
    }
   ],
   "source": [
    "sns.distplot(data[\"win\"],kde =False,).set_title(\"Repartion des victioires\")"
   ]
  },
  {
   "cell_type": "code",
   "execution_count": 159,
   "metadata": {},
   "outputs": [
    {
     "data": {
      "image/png": "[encoded data removed]",
      "text/plain": [
       "<Figure size 432x288 with 1 Axes>"
      ]
     },
     "metadata": {},
     "output_type": "display_data"
    },
    {
     "data": {
      "image/png": "[encoded data removed]",
      "text/plain": [
       "<Figure size 432x288 with 1 Axes>"
      ]
     },
     "metadata": {},
     "output_type": "display_data"
    }
   ],
   "source": [
    "def meanplotter(d, a,s):\n",
    "    mean = {}\n",
    "    for y in d:\n",
    "        if y in a:\n",
    "            mean[y] = (d[y].mean(axis=0))\n",
    "    keys=mean.keys()\n",
    "    vals=mean.values()\n",
    "    plt.title(s)\n",
    "    plt.bar([\"Top\",\"Mid\",\"Jungle\",\"Support\",\"Adc\"],vals)\n",
    "    plt.tight_layout()\n",
    "    plt.show()\n",
    "\n",
    "kill1=[\"kills_top_team_1\",\"kills_jungle_team_1\",\"kills_middle_team_1\",\"kills_bottom_duo_carry_team_1\",\"kills_bottom_duo_support_team_1\"]\n",
    "kill2=[\"kills_top_team_2\",\"kills_jungle_team_2\",\"kills_middle_team_2\",\"kills_bottom_duo_carry_team_2\",\"kills_bottom_duo_support_team_2\"]\n",
    "\n",
    "\n",
    "meanplotter(data,kill1,\"Moyennes Des Kills Par Role Pour L'Equipe 1\")\n",
    "meanplotter(data,kill2,\"Moyennes Des Kills Par Role Pour L'Equipe 2\")"
   ]
  },
  {
   "cell_type": "code",
   "execution_count": null,
   "metadata": {},
   "outputs": [
    {
     "data": {
      "image/png": "[encoded data removed]",
      "text/plain": [
       "<Figure size 432x288 with 1 Axes>"
      ]
     },
     "metadata": {},
     "output_type": "display_data"
    }
   ],
   "source": [
    "gold_earned1=[\"gold_earned_20m_top_team_1\",\"gold_earned_20m_jungle_team_1\",\"gold_earned_20m_middle_team_1\",\"gold_earned_20m_bottom_duo_carry_team_1\",\"gold_earned_20m_bottom_duo_support_team_1\"]\n",
    "gold_earned2=[\"gold_earned_20m_top_team_2\",\"gold_earned_20m_jungle_team_2\",\"gold_earned_20m_middle_team_2\",\"gold_earned_20m_bottom_duo_carry_team_2\",\"gold_earned_20m_bottom_duo_support_team_2\"]\n",
    "\n",
    "meanplotter(data,gold_earned1,\"Moyennes Des Gold Par Minutes Par Role Pour L'Equipe 1 Entre 10 Et 20 Mins\")\n",
    "meanplotter(data,gold_earned2,\"Moyennes Des Gold Par Minutes Par Role Pour L'Equipe 2 Entre 10 Et 20 Mins\")"
   ]
  },
  {
   "cell_type": "code",
   "execution_count": null,
   "metadata": {},
   "outputs": [],
   "source": [
    "xp1=[\"xp_20m_top_team_1\",\"xp_20m_jungle_team_1\",\"xp_20m_middle_team_1\",\"xp_20m_bottom_duo_carry_team_1\",\"xp_20m_bottom_duo_support_team_1\"]\n",
    "xp2=[\"xp_20m_top_team_2\",\"xp_20m_jungle_team_2\",\"xp_20m_middle_team_2\",\"xp_20m_bottom_duo_carry_team_2\",\"xp_20m_bottom_duo_support_team_2\"]\n",
    "\n",
    "meanplotter(data,xp1,\"Moyennes Des XP Par Role Pour L'Equipe 1 Entre 10 Et 20 Mins\")\n",
    "meanplotter(data,xp2,\"Moyennes Des XP Par Role Pour L'Equipe 2 Entre 10 Et 20 Mins\")"
   ]
  },
  {
   "cell_type": "code",
   "execution_count": null,
   "metadata": {},
   "outputs": [],
   "source": [
    "fig, ax = plt.subplots(figsize=(15,8))\n",
    "sns.heatmap(data.iloc[:, : 17].corr(), vmax=1.0, center=0, fmt='.2f',\n",
    "                square=True, linewidths=.5, annot=True, cbar_kws={\"shrink\": .70})"
   ]
  },
  {
   "cell_type": "code",
   "execution_count": null,
   "metadata": {},
   "outputs": [],
   "source": [
    "perf1 = data.iloc[:,17:52]\n",
    "perf1['win'] = data['win']\n",
    "\n",
    "plt.figure(figsize=(20,30))\n",
    "plt.title(\"Correlation between the performance of team 2 players\")\n",
    "sns.heatmap(perf1.corr(), vmax=1.0, center=0, fmt='.2f',\n",
    "                square=True, linewidths=.5, annot=True, cbar_kws={\"shrink\": .70}\n",
    ")"
   ]
  },
  {
   "cell_type": "code",
   "execution_count": null,
   "metadata": {},
   "outputs": [],
   "source": [
    "perf2 = data.iloc[:,52:88]\n",
    "perf2['win'] = data['win']\n",
    "\n",
    "plt.figure(figsize=(20,30))\n",
    "plt.title(\"Correlation between the performance of team 2 players\")\n",
    "sns.heatmap(perf2.corr(), vmax=1.0, center=0, fmt='.2f',\n",
    "                square=True, linewidths=.5, annot=True, cbar_kws={\"shrink\": .70}\n",
    ")"
   ]
  },
  {
   "cell_type": "markdown",
   "metadata": {},
   "source": [
    "# OPTIMISATIONS"
   ]
  },
  {
   "cell_type": "markdown",
   "metadata": {},
   "source": [
    "## ARCHITECTURE"
   ]
  },
  {
   "cell_type": "code",
   "execution_count": null,
   "metadata": {
    "scrolled": true
   },
   "outputs": [],
   "source": [
    "DTree= DecisionTreeClassifier()\n",
    "DTree.fit(x_train,y_train)\n",
    "print(DTree.score(x_test,y_test))\n"
   ]
  },
  {
   "cell_type": "markdown",
   "metadata": {},
   "source": [
    "## HYPER-PARAMETRES"
   ]
  },
  {
   "cell_type": "markdown",
   "metadata": {},
   "source": [
    "## PREPROCESSING 2"
   ]
  },
  {
   "cell_type": "markdown",
   "metadata": {},
   "source": [
    "Normalization "
   ]
  },
  {
   "cell_type": "code",
   "execution_count": null,
   "metadata": {},
   "outputs": [],
   "source": [
    "norm = MinMaxScaler().fit(x_train)\n",
    "x_train_norm = norm.transform(x_train)\n",
    "x_test_norm = norm.transform(x_test)\n",
    "DTree.fit(x_train_norm,y_train)\n",
    "print(DTree.score(x_test_norm,y_test))\n"
   ]
  },
  {
   "cell_type": "markdown",
   "metadata": {},
   "source": [
    "STANDARDIZATION"
   ]
  },
  {
   "cell_type": "code",
   "execution_count": null,
   "metadata": {},
   "outputs": [],
   "source": [
    "x_train_stand = x_train.copy()\n",
    "x_test_stand = x_test.copy()\n",
    "\n",
    "for i in data.drop('win',axis='columns').columns :\n",
    "        scale = StandardScaler().fit(x_train_stand[[i]])\n",
    "        x_train_stand[i] = scale.transform(x_train_stand[[i]])\n",
    "        x_test_stand[i] = scale.transform(x_test_stand[[i]])\n",
    "\n",
    "DTree.fit(x_train_stand,y_train)\n",
    "print(DTree.score(x_test_stand,y_test))\n"
   ]
  },
  {
   "cell_type": "markdown",
   "metadata": {},
   "source": [
    "# TEST 1"
   ]
  },
  {
   "cell_type": "code",
   "execution_count": null,
   "metadata": {},
   "outputs": [],
   "source": [
    "dot_data = tree.export_graphviz(DTree, out_file=None, filled=True, rounded=True, feature_names=input.columns, class_names=[\"1\",\"2\"])\n",
    "graph = graphviz.Source(dot_data)  \n",
    "graph\n"
   ]
  },
  {
   "cell_type": "code",
   "execution_count": null,
   "metadata": {},
   "outputs": [],
   "source": [
    "print(DTree.score(i_test,t_test))\n",
    "\n",
    "N,train_score,val_score = learning_curve(DTree,i_train,t_train,train_sizes=np.linspace(0.1,1.0,100),cv=10)\n",
    "print(N)\n",
    "plt.plot(N,train_score.mean(axis=1),label='train')\n",
    "plt.plot(N,val_score.mean(axis=1),label='validation')\n",
    "plt.xlabel('train_sizes')\n",
    "plt.legend()\n"
   ]
  },
  {
   "cell_type": "code",
   "execution_count": null,
   "metadata": {},
   "outputs": [],
   "source": [
    "confusion_matrix(t_test,DTree.predict(i_test))\n"
   ]
  },
  {
   "cell_type": "code",
   "execution_count": null,
   "metadata": {},
   "outputs": [],
   "source": [
    "print(classification_report(DTree.predict(i_test),t_test))\n",
    "\n",
    "sns.distplot(t_train,kde =False,).set_title(\"Repartion des victioires\")"
   ]
  },
  {
   "cell_type": "markdown",
   "metadata": {},
   "source": [
    "# TEST "
   ]
  },
  {
   "cell_type": "code",
   "execution_count": null,
   "metadata": {
    "scrolled": false
   },
   "outputs": [],
   "source": [
    "input = data.drop(data.iloc[:,0:17],axis='columns')\n",
    "target = data[\"win\"]\n",
    "\n",
    "i_train,i_test,t_train,t_test=train_test_split(input,target,test_size=0.2)\n",
    "DTree= DecisionTreeClassifier()\n",
    "DTree.fit(i_train,t_train)\n",
    "print(DTree.score(i_test,t_test))\n",
    "\n",
    "dot_data = tree.export_graphviz(DTree, out_file=None, filled=True, rounded=True, feature_names=input.columns, class_names=[\"1\",\"2\"])\n",
    "graph = graphviz.Source(dot_data)  \n",
    "graph\n"
   ]
  },
  {
   "cell_type": "code",
   "execution_count": null,
   "metadata": {},
   "outputs": [],
   "source": [
    "print(DTree.score(i_test,t_test))\n",
    "\n",
    "confusion_matrix(t_test,DTree.predict(i_test))\n",
    "\n",
    "N,train_score,val_score = learning_curve(DTree,i_train,t_train,train_sizes=np.linspace(0.1,1.0,100),cv=10)\n",
    "print(N)\n",
    "plt.plot(N,train_score.mean(axis=1),label='train')\n",
    "plt.plot(N,val_score.mean(axis=1),label='validation')\n",
    "plt.xlabel('train_sizes')\n",
    "plt.legend()\n"
   ]
  },
  {
   "cell_type": "code",
   "execution_count": null,
   "metadata": {},
   "outputs": [],
   "source": []
  },
  {
   "cell_type": "code",
   "execution_count": null,
   "metadata": {},
   "outputs": [],
   "source": []
  },
  {
   "cell_type": "code",
   "execution_count": null,
   "metadata": {},
   "outputs": [],
   "source": []
  },
  {
   "cell_type": "code",
   "execution_count": null,
   "metadata": {},
   "outputs": [],
   "source": []
  },
  {
   "cell_type": "code",
   "execution_count": null,
   "metadata": {},
   "outputs": [],
   "source": []
  },
  {
   "cell_type": "code",
   "execution_count": null,
   "metadata": {},
   "outputs": [],
   "source": []
  },
  {
   "cell_type": "code",
   "execution_count": null,
   "metadata": {},
   "outputs": [],
   "source": []
  },
  {
   "cell_type": "code",
   "execution_count": null,
   "metadata": {},
   "outputs": [],
   "source": []
  },
  {
   "cell_type": "code",
   "execution_count": null,
   "metadata": {},
   "outputs": [],
   "source": []
  },
  {
   "cell_type": "code",
   "execution_count": null,
   "metadata": {},
   "outputs": [],
   "source": []
  },
  {
   "cell_type": "code",
   "execution_count": null,
   "metadata": {},
   "outputs": [],
   "source": []
  },
  {
   "cell_type": "code",
   "execution_count": null,
   "metadata": {},
   "outputs": [],
   "source": []
  },
  {
   "cell_type": "code",
   "execution_count": null,
   "metadata": {},
   "outputs": [],
   "source": []
  },
  {
   "cell_type": "code",
   "execution_count": null,
   "metadata": {},
   "outputs": [],
   "source": []
  },
  {
   "cell_type": "code",
   "execution_count": null,
   "metadata": {},
   "outputs": [],
   "source": []
  },
  {
   "cell_type": "code",
   "execution_count": null,
   "metadata": {},
   "outputs": [],
   "source": []
  },
  {
   "cell_type": "code",
   "execution_count": null,
   "metadata": {},
   "outputs": [],
   "source": []
  },
  {
   "cell_type": "code",
   "execution_count": null,
   "metadata": {},
   "outputs": [],
   "source": []
  },
  {
   "cell_type": "code",
   "execution_count": null,
   "metadata": {},
   "outputs": [],
   "source": []
  },
  {
   "cell_type": "code",
   "execution_count": null,
   "metadata": {},
   "outputs": [],
   "source": []
  },
  {
   "cell_type": "code",
   "execution_count": null,
   "metadata": {},
   "outputs": [],
   "source": []
  },
  {
   "cell_type": "code",
   "execution_count": null,
   "metadata": {},
   "outputs": [],
   "source": []
  },
  {
   "cell_type": "code",
   "execution_count": null,
   "metadata": {},
   "outputs": [],
   "source": []
  },
  {
   "cell_type": "code",
   "execution_count": null,
   "metadata": {},
   "outputs": [],
   "source": []
  },
  {
   "cell_type": "code",
   "execution_count": null,
   "metadata": {},
   "outputs": [],
   "source": []
  },
  {
   "cell_type": "code",
   "execution_count": null,
   "metadata": {},
   "outputs": [],
   "source": []
  },
  {
   "cell_type": "code",
   "execution_count": null,
   "metadata": {},
   "outputs": [],
   "source": []
  },
  {
   "cell_type": "code",
   "execution_count": null,
   "metadata": {},
   "outputs": [],
   "source": []
  },
  {
   "cell_type": "code",
   "execution_count": null,
   "metadata": {},
   "outputs": [],
   "source": []
  },
  {
   "cell_type": "code",
   "execution_count": null,
   "metadata": {},
   "outputs": [],
   "source": []
  },
  {
   "cell_type": "code",
   "execution_count": null,
   "metadata": {},
   "outputs": [],
   "source": []
  },
  {
   "cell_type": "code",
   "execution_count": null,
   "metadata": {},
   "outputs": [],
   "source": []
  },
  {
   "cell_type": "code",
   "execution_count": null,
   "metadata": {},
   "outputs": [],
   "source": []
  },
  {
   "cell_type": "code",
   "execution_count": null,
   "metadata": {},
   "outputs": [],
   "source": []
  },
  {
   "cell_type": "code",
   "execution_count": null,
   "metadata": {},
   "outputs": [],
   "source": []
  },
  {
   "cell_type": "code",
   "execution_count": null,
   "metadata": {},
   "outputs": [],
   "source": []
  },
  {
   "cell_type": "code",
   "execution_count": null,
   "metadata": {},
   "outputs": [],
   "source": []
  },
  {
   "cell_type": "code",
   "execution_count": null,
   "metadata": {},
   "outputs": [],
   "source": []
  },
  {
   "cell_type": "code",
   "execution_count": null,
   "metadata": {},
   "outputs": [],
   "source": []
  },
  {
   "cell_type": "code",
   "execution_count": null,
   "metadata": {},
   "outputs": [],
   "source": []
  },
  {
   "cell_type": "code",
   "execution_count": null,
   "metadata": {},
   "outputs": [],
   "source": []
  },
  {
   "cell_type": "code",
   "execution_count": null,
   "metadata": {},
   "outputs": [],
   "source": []
  },
  {
   "cell_type": "code",
   "execution_count": null,
   "metadata": {},
   "outputs": [],
   "source": []
  },
  {
   "cell_type": "code",
   "execution_count": null,
   "metadata": {},
   "outputs": [],
   "source": []
  }
 ],
 "metadata": {
  "kernelspec": {
   "display_name": "Python 3",
   "language": "python",
   "name": "python3"
  },
  "language_info": {
   "codemirror_mode": {
    "name": "ipython",
    "version": 3
   },
   "file_extension": ".py",
   "mimetype": "text/x-python",
   "name": "python",
   "nbconvert_exporter": "python",
   "pygments_lexer": "ipython3",
   "version": "3.7.6"
  }
 },
 "nbformat": 4,
 "nbformat_minor": 4
}
