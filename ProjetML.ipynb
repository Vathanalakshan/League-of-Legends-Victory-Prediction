{
 "cells": [
  {
   "cell_type": "markdown",
   "metadata": {},
   "source": [
    "# IMPORT DATA AND PACKAGES\n"
   ]
  },
  {
   "cell_type": "code",
   "execution_count": 40,
   "metadata": {},
   "outputs": [
    {
     "name": "stdout",
     "output_type": "stream",
     "text": [
      "(656, 89)\n"
     ]
    }
   ],
   "source": [
    "import numpy as np\n",
    "import matplotlib.pyplot as plt\n",
    "from sklearn.tree import DecisionTreeClassifier\n",
    "from sklearn.model_selection import train_test_split\n",
    "import pandas as pd\n",
    "import matplotlib.pyplot as plt\n",
    "import seaborn as sns; sns.set()\n",
    "\n",
    "data=pd.read_csv('challenger.csv')\n",
    "print(data.shape)\n"
   ]
  },
  {
   "cell_type": "markdown",
   "metadata": {},
   "source": [
    "# PREPROCESSING"
   ]
  },
  {
   "cell_type": "markdown",
   "metadata": {},
   "source": [
    "Elimination des doublons"
   ]
  },
  {
   "cell_type": "code",
   "execution_count": 8,
   "metadata": {},
   "outputs": [
    {
     "name": "stdout",
     "output_type": "stream",
     "text": [
      "(560, 89)\n"
     ]
    }
   ],
   "source": [
    "data=data.drop_duplicates()\n",
    "print(data.shape)"
   ]
  },
  {
   "cell_type": "markdown",
   "metadata": {},
   "source": [
    "Elimination des ligne avec des données erroné"
   ]
  },
  {
   "cell_type": "code",
   "execution_count": 30,
   "metadata": {},
   "outputs": [
    {
     "name": "stdout",
     "output_type": "stream",
     "text": [
      "(346, 89)\n"
     ]
    }
   ],
   "source": [
    "kill=[\"kills_top_team_1\",\"kills_top_team_2\",\"kills_bottom_duo_support_team_2\",\"kills_bottom_duo_support_team_1\",\"kills_bottom_duo_carry_team_2\",\"kills_bottom_duo_carry_team_1\",\"kills_middle_team_1\",\"kills_middle_team_2\",\"kills_jungle_team_1\",\"kills_jungle_team_2\"]\n",
    "k=[]\n",
    "for i, row in data.iterrows():\n",
    "    for j in kill:\n",
    "        if (row[j] > 40):\n",
    "            k.append(i)\n",
    "            break\n",
    "\n",
    "data=data.drop(k,axis=0).reindex()\n",
    "print(data.shape)"
   ]
  },
  {
   "cell_type": "code",
   "execution_count": 34,
   "metadata": {},
   "outputs": [],
   "source": [
    "input = data.drop('win',axis='columns')\n",
    "target = data[\"win\"]\n"
   ]
  },
  {
   "cell_type": "markdown",
   "metadata": {},
   "source": [
    "# DATA VISUALISATION"
   ]
  },
  {
   "cell_type": "code",
   "execution_count": 39,
   "metadata": {},
   "outputs": [
    {
     "data": {
      "text/html": [
       "<div>\n",
       "<style scoped>\n",
       "    .dataframe tbody tr th:only-of-type {\n",
       "        vertical-align: middle;\n",
       "    }\n",
       "\n",
       "    .dataframe tbody tr th {\n",
       "        vertical-align: top;\n",
       "    }\n",
       "\n",
       "    .dataframe thead th {\n",
       "        text-align: right;\n",
       "    }\n",
       "</style>\n",
       "<table border=\"1\" class=\"dataframe\">\n",
       "  <thead>\n",
       "    <tr style=\"text-align: right;\">\n",
       "      <th></th>\n",
       "      <th>win</th>\n",
       "      <th>first_blood</th>\n",
       "      <th>first_tower</th>\n",
       "      <th>first_inhibitor</th>\n",
       "      <th>first_baron</th>\n",
       "      <th>first_dragon</th>\n",
       "      <th>first_rift_herald</th>\n",
       "      <th>tower_kills_team_1</th>\n",
       "      <th>inhibitor_kills_team_1</th>\n",
       "      <th>baron_kills_team_1</th>\n",
       "      <th>...</th>\n",
       "      <th>cs_20m_bottom_duo_support_team_2</th>\n",
       "      <th>xp_20m_bottom_duo_support_team_2</th>\n",
       "      <th>damege_taken_20m_bottom_duo_support_team_2</th>\n",
       "      <th>kills_bottom_duo_carry_team_2</th>\n",
       "      <th>assists_bottom_duo_carry_team_2</th>\n",
       "      <th>deaths_bottom_duo_carry_team_2</th>\n",
       "      <th>gold_earned_20m_bottom_duo_carry_team_2</th>\n",
       "      <th>cs_20m_bottom_duo_carry_team_2</th>\n",
       "      <th>xp_20m_bottom_duo_carry_team_2</th>\n",
       "      <th>damege_taken_20m_bottom_duo_carry_team_2</th>\n",
       "    </tr>\n",
       "  </thead>\n",
       "  <tbody>\n",
       "    <tr>\n",
       "      <th>0</th>\n",
       "      <td>2</td>\n",
       "      <td>2</td>\n",
       "      <td>2</td>\n",
       "      <td>2</td>\n",
       "      <td>0</td>\n",
       "      <td>2</td>\n",
       "      <td>2</td>\n",
       "      <td>0</td>\n",
       "      <td>0</td>\n",
       "      <td>0</td>\n",
       "      <td>...</td>\n",
       "      <td>0.4</td>\n",
       "      <td>298.2</td>\n",
       "      <td>602.2</td>\n",
       "      <td>6.0</td>\n",
       "      <td>8.0</td>\n",
       "      <td>3.0</td>\n",
       "      <td>391.5</td>\n",
       "      <td>5.5</td>\n",
       "      <td>314.0</td>\n",
       "      <td>782.6</td>\n",
       "    </tr>\n",
       "    <tr>\n",
       "      <th>1</th>\n",
       "      <td>2</td>\n",
       "      <td>2</td>\n",
       "      <td>2</td>\n",
       "      <td>0</td>\n",
       "      <td>0</td>\n",
       "      <td>2</td>\n",
       "      <td>0</td>\n",
       "      <td>0</td>\n",
       "      <td>0</td>\n",
       "      <td>0</td>\n",
       "      <td>...</td>\n",
       "      <td>0.8</td>\n",
       "      <td>336.0</td>\n",
       "      <td>343.7</td>\n",
       "      <td>2.0</td>\n",
       "      <td>8.0</td>\n",
       "      <td>2.0</td>\n",
       "      <td>460.2</td>\n",
       "      <td>7.9</td>\n",
       "      <td>520.6</td>\n",
       "      <td>604.9</td>\n",
       "    </tr>\n",
       "    <tr>\n",
       "      <th>2</th>\n",
       "      <td>2</td>\n",
       "      <td>2</td>\n",
       "      <td>0</td>\n",
       "      <td>2</td>\n",
       "      <td>2</td>\n",
       "      <td>1</td>\n",
       "      <td>2</td>\n",
       "      <td>3</td>\n",
       "      <td>0</td>\n",
       "      <td>0</td>\n",
       "      <td>...</td>\n",
       "      <td>1.5</td>\n",
       "      <td>399.9</td>\n",
       "      <td>456.0</td>\n",
       "      <td>8.0</td>\n",
       "      <td>8.0</td>\n",
       "      <td>2.0</td>\n",
       "      <td>459.5</td>\n",
       "      <td>7.1</td>\n",
       "      <td>452.9</td>\n",
       "      <td>397.5</td>\n",
       "    </tr>\n",
       "    <tr>\n",
       "      <th>3</th>\n",
       "      <td>1</td>\n",
       "      <td>1</td>\n",
       "      <td>0</td>\n",
       "      <td>1</td>\n",
       "      <td>1</td>\n",
       "      <td>1</td>\n",
       "      <td>0</td>\n",
       "      <td>9</td>\n",
       "      <td>1</td>\n",
       "      <td>1</td>\n",
       "      <td>...</td>\n",
       "      <td>0.7</td>\n",
       "      <td>317.6</td>\n",
       "      <td>627.8</td>\n",
       "      <td>10.0</td>\n",
       "      <td>6.0</td>\n",
       "      <td>10.0</td>\n",
       "      <td>647.4</td>\n",
       "      <td>8.4</td>\n",
       "      <td>545.0</td>\n",
       "      <td>894.0</td>\n",
       "    </tr>\n",
       "    <tr>\n",
       "      <th>4</th>\n",
       "      <td>2</td>\n",
       "      <td>2</td>\n",
       "      <td>0</td>\n",
       "      <td>2</td>\n",
       "      <td>2</td>\n",
       "      <td>2</td>\n",
       "      <td>1</td>\n",
       "      <td>3</td>\n",
       "      <td>0</td>\n",
       "      <td>0</td>\n",
       "      <td>...</td>\n",
       "      <td>1.7</td>\n",
       "      <td>365.1</td>\n",
       "      <td>685.7</td>\n",
       "      <td>12.0</td>\n",
       "      <td>9.0</td>\n",
       "      <td>5.0</td>\n",
       "      <td>479.8</td>\n",
       "      <td>7.6</td>\n",
       "      <td>446.0</td>\n",
       "      <td>477.5</td>\n",
       "    </tr>\n",
       "  </tbody>\n",
       "</table>\n",
       "<p>5 rows × 89 columns</p>\n",
       "</div>"
      ],
      "text/plain": [
       "   win  first_blood  first_tower  first_inhibitor  first_baron  first_dragon  \\\n",
       "0    2            2            2                2            0             2   \n",
       "1    2            2            2                0            0             2   \n",
       "2    2            2            0                2            2             1   \n",
       "3    1            1            0                1            1             1   \n",
       "4    2            2            0                2            2             2   \n",
       "\n",
       "   first_rift_herald  tower_kills_team_1  inhibitor_kills_team_1  \\\n",
       "0                  2                   0                       0   \n",
       "1                  0                   0                       0   \n",
       "2                  2                   3                       0   \n",
       "3                  0                   9                       1   \n",
       "4                  1                   3                       0   \n",
       "\n",
       "   baron_kills_team_1  ...  cs_20m_bottom_duo_support_team_2  \\\n",
       "0                   0  ...                               0.4   \n",
       "1                   0  ...                               0.8   \n",
       "2                   0  ...                               1.5   \n",
       "3                   1  ...                               0.7   \n",
       "4                   0  ...                               1.7   \n",
       "\n",
       "   xp_20m_bottom_duo_support_team_2  \\\n",
       "0                             298.2   \n",
       "1                             336.0   \n",
       "2                             399.9   \n",
       "3                             317.6   \n",
       "4                             365.1   \n",
       "\n",
       "   damege_taken_20m_bottom_duo_support_team_2  kills_bottom_duo_carry_team_2  \\\n",
       "0                                       602.2                            6.0   \n",
       "1                                       343.7                            2.0   \n",
       "2                                       456.0                            8.0   \n",
       "3                                       627.8                           10.0   \n",
       "4                                       685.7                           12.0   \n",
       "\n",
       "   assists_bottom_duo_carry_team_2  deaths_bottom_duo_carry_team_2  \\\n",
       "0                              8.0                             3.0   \n",
       "1                              8.0                             2.0   \n",
       "2                              8.0                             2.0   \n",
       "3                              6.0                            10.0   \n",
       "4                              9.0                             5.0   \n",
       "\n",
       "   gold_earned_20m_bottom_duo_carry_team_2  cs_20m_bottom_duo_carry_team_2  \\\n",
       "0                                    391.5                             5.5   \n",
       "1                                    460.2                             7.9   \n",
       "2                                    459.5                             7.1   \n",
       "3                                    647.4                             8.4   \n",
       "4                                    479.8                             7.6   \n",
       "\n",
       "   xp_20m_bottom_duo_carry_team_2  damege_taken_20m_bottom_duo_carry_team_2  \n",
       "0                           314.0                                     782.6  \n",
       "1                           520.6                                     604.9  \n",
       "2                           452.9                                     397.5  \n",
       "3                           545.0                                     894.0  \n",
       "4                           446.0                                     477.5  \n",
       "\n",
       "[5 rows x 89 columns]"
      ]
     },
     "execution_count": 39,
     "metadata": {},
     "output_type": "execute_result"
    }
   ],
   "source": [
    "data.head(5)\n",
    "#Les saut des index sont du au ligne qu'on a supprimés"
   ]
  },
  {
   "cell_type": "code",
   "execution_count": 20,
   "metadata": {
    "scrolled": true
   },
   "outputs": [
    {
     "data": {
      "text/plain": [
       "<matplotlib.axes._subplots.AxesSubplot at 0x17935862ac8>"
      ]
     },
     "execution_count": 20,
     "metadata": {},
     "output_type": "execute_result"
    },
    {
     "data": {
      "image/png": "[encoded data removed]",
      "text/plain": [
       "<Figure size 432x288 with 1 Axes>"
      ]
     },
     "metadata": {},
     "output_type": "display_data"
    }
   ],
   "source": [
    "sns.distplot(data[\"win\"],kde =False,)"
   ]
  },
  {
   "cell_type": "markdown",
   "metadata": {},
   "source": [
    "Repartition des victoires"
   ]
  },
  {
   "cell_type": "code",
   "execution_count": 1,
   "metadata": {},
   "outputs": [],
   "source": [
    "kill1=[\"kills_top_team_1\",\"kills_jungle_team_1\",\"kills_middle_team_1\",\"kills_bottom_duo_carry_team_1\",\"kills_bottom_duo_support_team_1\"]\n",
    "kill2=[\"kills_top_team_2\",\"kills_jungle_team_2\",\"kills_middle_team_2\",\"kills_bottom_duo_carry_team_2\",\"kills_bottom_duo_support_team_2\"]\n"
   ]
  },
  {
   "cell_type": "markdown",
   "metadata": {},
   "source": [
    "# OPTIMISATIONS"
   ]
  },
  {
   "cell_type": "markdown",
   "metadata": {},
   "source": [
    "# TEST"
   ]
  },
  {
   "cell_type": "code",
   "execution_count": 35,
   "metadata": {},
   "outputs": [
    {
     "name": "stdout",
     "output_type": "stream",
     "text": [
      "0.9571428571428572\n"
     ]
    }
   ],
   "source": [
    "i_train,i_test,t_train,t_test=train_test_split(input,target,test_size=0.2)\n",
    "DTree= DecisionTreeClassifier()\n",
    "DTree.fit(i_train,t_train)\n",
    "print(DTree.score(i_test,t_test))\n"
   ]
  },
  {
   "cell_type": "code",
   "execution_count": null,
   "metadata": {},
   "outputs": [],
   "source": []
  }
 ],
 "metadata": {
  "kernelspec": {
   "display_name": "Python 3",
   "language": "python",
   "name": "python3"
  },
  "language_info": {
   "codemirror_mode": {
    "name": "ipython",
    "version": 3
   },
   "file_extension": ".py",
   "mimetype": "text/x-python",
   "name": "python",
   "nbconvert_exporter": "python",
   "pygments_lexer": "ipython3",
   "version": "3.7.6"
  }
 },
 "nbformat": 4,
 "nbformat_minor": 4
}
