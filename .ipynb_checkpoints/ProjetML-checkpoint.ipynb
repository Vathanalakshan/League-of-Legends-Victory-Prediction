{
 "cells": [
  {
   "cell_type": "markdown",
   "metadata": {},
   "source": [
    "# IMPORT DATA AND PACKAGES\n"
   ]
  },
  {
   "cell_type": "code",
   "execution_count": null,
   "metadata": {},
   "outputs": [],
   "source": [
    "import numpy as np\n",
    "import matplotlib.pyplot as plt\n",
    "from sklearn.tree import DecisionTreeClassifier,export_graphviz\n",
    "from sklearn.model_selection import train_test_split,cross_val_score,learning_curve,GridSearchCV\n",
    "from sklearn.decomposition import PCA\n",
    "import pandas as pd\n",
    "import matplotlib.pyplot as plt\n",
    "import seaborn as sns; sns.set()\n",
    "import pydot \n",
    "import graphviz\n",
    "from sklearn import tree\n",
    "from sklearn.metrics import confusion_matrix,classification_report\n",
    "from sklearn.preprocessing import StandardScaler,MinMaxScaler\n",
    "\n",
    "data=pd.read_csv('challenger108')\n",
    "data=data.drop(['vilemaw_kills_team_1', 'vilemaw_kills_team_2'], axis=1)\n",
    "print(data.shape)\n"
   ]
  },
  {
   "cell_type": "markdown",
   "metadata": {},
   "source": [
    "# PREPROCESSING 1"
   ]
  },
  {
   "cell_type": "markdown",
   "metadata": {},
   "source": [
    "Elimination des doublons"
   ]
  },
  {
   "cell_type": "code",
   "execution_count": null,
   "metadata": {},
   "outputs": [],
   "source": [
    "data=data.drop_duplicates()\n",
    "print(data.shape)"
   ]
  },
  {
   "cell_type": "markdown",
   "metadata": {},
   "source": [
    "Elimination des ligne avec des données erroné"
   ]
  },
  {
   "cell_type": "code",
   "execution_count": null,
   "metadata": {},
   "outputs": [],
   "source": [
    "kill=[\"kills_top_team_1\",\"kills_top_team_2\",\"kills_bottom_duo_support_team_2\",\"kills_bottom_duo_support_team_1\",\"kills_bottom_duo_carry_team_2\",\"kills_bottom_duo_carry_team_1\",\"kills_middle_team_1\",\"kills_middle_team_2\",\"kills_jungle_team_1\",\"kills_jungle_team_2\"]\n",
    "k=[]\n",
    "for i, row in data.iterrows():\n",
    "    for j in kill:\n",
    "        if (row[j] > 40):\n",
    "            k.append(i)\n",
    "            break\n",
    "data=data.drop(k,axis=0).reindex()\n",
    "print(data.shape)"
   ]
  },
  {
   "cell_type": "markdown",
   "metadata": {},
   "source": [
    "Definiton train set, validation set, et test set."
   ]
  },
  {
   "cell_type": "code",
   "execution_count": null,
   "metadata": {},
   "outputs": [],
   "source": [
    "features = data.drop('win',axis='columns')\n",
    "label = data[\"win\"]\n",
    "x_train,x_test,y_train,y_test=train_test_split(features,label,test_size=0.2)\n",
    "sns.distplot(y_train,kde =False,).set_title(\"Repartiton des y_train\")\n",
    "print(y_train.shape)"
   ]
  },
  {
   "cell_type": "code",
   "execution_count": null,
   "metadata": {},
   "outputs": [],
   "source": [
    "sns.distplot(y_test,kde =False,).set_title(\"Repartiton des y_test\")\n",
    "print(y_test.shape)"
   ]
  },
  {
   "cell_type": "markdown",
   "metadata": {},
   "source": [
    "# DATA VISUALISATION"
   ]
  },
  {
   "cell_type": "code",
   "execution_count": null,
   "metadata": {},
   "outputs": [],
   "source": [
    "data.head(5)\n",
    "#Les saut des index sont du au ligne qu'on a supprimés"
   ]
  },
  {
   "cell_type": "code",
   "execution_count": null,
   "metadata": {},
   "outputs": [],
   "source": [
    "sns.distplot(data[\"win\"],kde =False,).set_title(\"Repartion des victioires\")"
   ]
  },
  {
   "cell_type": "code",
   "execution_count": null,
   "metadata": {},
   "outputs": [],
   "source": [
    "def meanplotter(d, a,s):\n",
    "    mean = {}\n",
    "    for y in d:\n",
    "        if y in a:\n",
    "            mean[y] = (d[y].mean(axis=0))\n",
    "    keys=mean.keys()\n",
    "    vals=mean.values()\n",
    "    plt.title(s)\n",
    "    plt.bar([\"Top\",\"Mid\",\"Jungle\",\"Support\",\"Adc\"],vals)\n",
    "    plt.tight_layout()\n",
    "    plt.show()\n",
    "\n",
    "kill1=[\"kills_top_team_1\",\"kills_jungle_team_1\",\"kills_middle_team_1\",\"kills_bottom_duo_carry_team_1\",\"kills_bottom_duo_support_team_1\"]\n",
    "kill2=[\"kills_top_team_2\",\"kills_jungle_team_2\",\"kills_middle_team_2\",\"kills_bottom_duo_carry_team_2\",\"kills_bottom_duo_support_team_2\"]\n",
    "\n",
    "\n",
    "meanplotter(data,kill1,\"Moyennes Des Kills Par Role Pour L'Equipe 1\")\n",
    "meanplotter(data,kill2,\"Moyennes Des Kills Par Role Pour L'Equipe 2\")"
   ]
  },
  {
   "cell_type": "code",
   "execution_count": null,
   "metadata": {},
   "outputs": [],
   "source": [
    "gold_earned1=[\"gold_earned_20m_top_team_1\",\"gold_earned_20m_jungle_team_1\",\"gold_earned_20m_middle_team_1\",\"gold_earned_20m_bottom_duo_carry_team_1\",\"gold_earned_20m_bottom_duo_support_team_1\"]\n",
    "gold_earned2=[\"gold_earned_20m_top_team_2\",\"gold_earned_20m_jungle_team_2\",\"gold_earned_20m_middle_team_2\",\"gold_earned_20m_bottom_duo_carry_team_2\",\"gold_earned_20m_bottom_duo_support_team_2\"]\n",
    "\n",
    "meanplotter(data,gold_earned1,\"Moyennes Des Gold Par Minutes Par Role Pour L'Equipe 1 Entre 10 Et 20 Mins\")\n",
    "meanplotter(data,gold_earned2,\"Moyennes Des Gold Par Minutes Par Role Pour L'Equipe 2 Entre 10 Et 20 Mins\")"
   ]
  },
  {
   "cell_type": "code",
   "execution_count": null,
   "metadata": {},
   "outputs": [],
   "source": [
    "xp1=[\"xp_20m_top_team_1\",\"xp_20m_jungle_team_1\",\"xp_20m_middle_team_1\",\"xp_20m_bottom_duo_carry_team_1\",\"xp_20m_bottom_duo_support_team_1\"]\n",
    "xp2=[\"xp_20m_top_team_2\",\"xp_20m_jungle_team_2\",\"xp_20m_middle_team_2\",\"xp_20m_bottom_duo_carry_team_2\",\"xp_20m_bottom_duo_support_team_2\"]\n",
    "\n",
    "meanplotter(data,xp1,\"Moyennes Des XP Par Role Pour L'Equipe 1 Entre 10 Et 20 Mins\")\n",
    "meanplotter(data,xp2,\"Moyennes Des XP Par Role Pour L'Equipe 2 Entre 10 Et 20 Mins\")"
   ]
  },
  {
   "cell_type": "code",
   "execution_count": null,
   "metadata": {},
   "outputs": [],
   "source": [
    "fig, ax = plt.subplots(figsize=(15,8))\n",
    "sns.heatmap(data.iloc[:, : 17].corr(), vmax=1.0, center=0, fmt='.2f',\n",
    "                square=True, linewidths=.5, annot=True, cbar_kws={\"shrink\": .70})"
   ]
  },
  {
   "cell_type": "code",
   "execution_count": null,
   "metadata": {},
   "outputs": [],
   "source": [
    "perf1 = data.iloc[:,17:52]\n",
    "perf1['win'] = data['win']\n",
    "\n",
    "plt.figure(figsize=(20,30))\n",
    "plt.title(\"Correlation between the performance of team 2 players\")\n",
    "sns.heatmap(perf1.corr(), vmax=1.0, center=0, fmt='.2f',\n",
    "                square=True, linewidths=.5, annot=True, cbar_kws={\"shrink\": .70}\n",
    ")"
   ]
  },
  {
   "cell_type": "code",
   "execution_count": null,
   "metadata": {},
   "outputs": [],
   "source": [
    "perf2 = data.iloc[:,52:88]\n",
    "perf2['win'] = data['win']\n",
    "\n",
    "plt.figure(figsize=(20,30))\n",
    "plt.title(\"Correlation between the performance of team 2 players\")\n",
    "sns.heatmap(perf2.corr(), vmax=1.0, center=0, fmt='.2f',\n",
    "                square=True, linewidths=.5, annot=True, cbar_kws={\"shrink\": .70}\n",
    ")"
   ]
  },
  {
   "cell_type": "markdown",
   "metadata": {},
   "source": [
    "# OPTIMISATIONS"
   ]
  },
  {
   "cell_type": "markdown",
   "metadata": {},
   "source": [
    "## ARCHITECTURE"
   ]
  },
  {
   "cell_type": "code",
   "execution_count": null,
   "metadata": {
    "scrolled": true
   },
   "outputs": [],
   "source": [
    "DTree= DecisionTreeClassifier()\n",
    "DTree.fit(x_train,y_train)\n",
    "print(DTree.score(x_test,y_test))\n"
   ]
  },
  {
   "cell_type": "markdown",
   "metadata": {},
   "source": [
    "## HYPER-PARAMETRES"
   ]
  },
  {
   "cell_type": "code",
   "execution_count": null,
   "metadata": {},
   "outputs": [],
   "source": [
    "param_grid = {'max_depth':np.arange(1,10),\n",
    "                'max_features':np.arange(1,80),\n",
    "              'criterion':['gini', 'entropy'],\n",
    "             'splitter':['best', 'random']}\n",
    "grid=GridSearchCV(DecisionTreeClassifier(), param_grid,cv=5)\n",
    "grid.fit(x_train, y_train)\n"
   ]
  },
  {
   "cell_type": "code",
   "execution_count": null,
   "metadata": {},
   "outputs": [],
   "source": [
    "grid.bestscore"
   ]
  },
  {
   "cell_type": "code",
   "execution_count": null,
   "metadata": {},
   "outputs": [],
   "source": [
    "grid.bestparams"
   ]
  },
  {
   "cell_type": "markdown",
   "metadata": {},
   "source": [
    "## PREPROCESSING 2"
   ]
  },
  {
   "cell_type": "markdown",
   "metadata": {},
   "source": [
    "Normalization "
   ]
  },
  {
   "cell_type": "code",
   "execution_count": null,
   "metadata": {},
   "outputs": [],
   "source": [
    "norm = MinMaxScaler().fit(x_train)\n",
    "x_train_norm = norm.transform(x_train)\n",
    "x_test_norm = norm.transform(x_test)\n",
    "DTree.fit(x_train_norm,y_train)\n",
    "print(DTree.score(x_test_norm,y_test))\n"
   ]
  },
  {
   "cell_type": "markdown",
   "metadata": {},
   "source": [
    "STANDARDIZATION"
   ]
  },
  {
   "cell_type": "code",
   "execution_count": null,
   "metadata": {},
   "outputs": [],
   "source": [
    "x_train_stand = x_train.copy()\n",
    "x_test_stand = x_test.copy()\n",
    "\n",
    "for i in data.drop('win',axis='columns').columns :\n",
    "        scale = StandardScaler().fit(x_train_stand[[i]])\n",
    "        x_train_stand[i] = scale.transform(x_train_stand[[i]])\n",
    "        x_test_stand[i] = scale.transform(x_test_stand[[i]])\n",
    "\n",
    "DTree.fit(x_train_stand,y_train)\n",
    "print(DTree.score(x_test_stand,y_test))\n"
   ]
  },
  {
   "cell_type": "markdown",
   "metadata": {},
   "source": [
    "PCA"
   ]
  },
  {
   "cell_type": "code",
   "execution_count": null,
   "metadata": {},
   "outputs": [],
   "source": [
    "pca = PCA()\n",
    "pca.fit(x_train_stand)\n",
    "var= pca.explained_variance_ratio_\n",
    "var1=np.cumsum(np.round(pca.explained_variance_ratio_, decimals=4)*100)\n",
    "plt.plot(var1)\n"
   ]
  },
  {
   "cell_type": "markdown",
   "metadata": {},
   "source": [
    "On atteint 994% des valeurs a 60 features"
   ]
  },
  {
   "cell_type": "code",
   "execution_count": null,
   "metadata": {},
   "outputs": [],
   "source": [
    "pca=PCA(n_components=61) \n",
    "pca.fit(x_train_stand) \n",
    "x_pca=pca.transform(x_train_stand)\n",
    "x_pca.shape"
   ]
  },
  {
   "cell_type": "markdown",
   "metadata": {},
   "source": [
    "# TEST 1"
   ]
  },
  {
   "cell_type": "code",
   "execution_count": null,
   "metadata": {},
   "outputs": [],
   "source": [
    "DTree= DecisionTreeClassifier()\n",
    "DTree.fit(x_train,y_train)\n",
    "\n",
    "dot_data = tree.export_graphviz(DTree, out_file=None, filled=True, rounded=True, feature_names=x_train.columns, class_names=[\"1\",\"2\"])\n",
    "graph = graphviz.Source(dot_data)  \n",
    "graph\n"
   ]
  },
  {
   "cell_type": "code",
   "execution_count": null,
   "metadata": {},
   "outputs": [],
   "source": [
    "N,train_score,val_score = learning_curve(DTree,x_train,y_train,train_sizes=np.linspace(0.1,1.0,100),cv=10)\n",
    "print(N)\n",
    "plt.plot(N,train_score.mean(axis=1),label='train')\n",
    "plt.plot(N,val_score.mean(axis=1),label='validation')\n",
    "plt.xlabel('train_sizes')\n",
    "plt.legend()\n"
   ]
  },
  {
   "cell_type": "code",
   "execution_count": null,
   "metadata": {},
   "outputs": [],
   "source": [
    "confusion_matrix(y_test,DTree.predict(x_test))\n"
   ]
  },
  {
   "cell_type": "code",
   "execution_count": null,
   "metadata": {},
   "outputs": [],
   "source": [
    "print(classification_report(DTree.predict(x_test),y_test))\n",
    "\n",
    "sns.distplot(y_train,kde =False,).set_title(\"Repartion des victioires\")"
   ]
  },
  {
   "cell_type": "markdown",
   "metadata": {},
   "source": [
    "# TEST "
   ]
  },
  {
   "cell_type": "code",
   "execution_count": null,
   "metadata": {
    "scrolled": false
   },
   "outputs": [],
   "source": [
    "input = data.drop(data.iloc[:,0:17],axis='columns')\n",
    "target = data[\"win\"]\n",
    "\n",
    "i_train,i_test,t_train,t_test=train_test_split(input,target,test_size=0.2)\n",
    "DTree= DecisionTreeClassifier()\n",
    "DTree.fit(i_train,t_train)\n",
    "print(DTree.score(i_test,t_test))\n",
    "\n",
    "dot_data = tree.export_graphviz(DTree, out_file=None, filled=True, rounded=True, feature_names=input.columns, class_names=[\"1\",\"2\"])\n",
    "graph = graphviz.Source(dot_data)  \n",
    "graph\n"
   ]
  },
  {
   "cell_type": "code",
   "execution_count": null,
   "metadata": {},
   "outputs": [],
   "source": [
    "print(DTree.score(i_test,t_test))\n",
    "\n",
    "confusion_matrix(t_test,DTree.predict(i_test))\n",
    "\n",
    "N,train_score,val_score = learning_curve(DTree,i_train,t_train,train_sizes=np.linspace(0.1,1.0,100),cv=10)\n",
    "print(N)\n",
    "plt.plot(N,train_score.mean(axis=1),label='train')\n",
    "plt.plot(N,val_score.mean(axis=1),label='validation')\n",
    "plt.xlabel('train_sizes')\n",
    "plt.legend()\n"
   ]
  },
  {
   "cell_type": "code",
   "execution_count": null,
   "metadata": {},
   "outputs": [],
   "source": []
  },
  {
   "cell_type": "code",
   "execution_count": null,
   "metadata": {},
   "outputs": [],
   "source": []
  },
  {
   "cell_type": "code",
   "execution_count": null,
   "metadata": {},
   "outputs": [],
   "source": []
  },
  {
   "cell_type": "code",
   "execution_count": null,
   "metadata": {},
   "outputs": [],
   "source": []
  },
  {
   "cell_type": "code",
   "execution_count": null,
   "metadata": {},
   "outputs": [],
   "source": []
  },
  {
   "cell_type": "code",
   "execution_count": null,
   "metadata": {},
   "outputs": [],
   "source": []
  },
  {
   "cell_type": "code",
   "execution_count": null,
   "metadata": {},
   "outputs": [],
   "source": []
  },
  {
   "cell_type": "code",
   "execution_count": null,
   "metadata": {},
   "outputs": [],
   "source": []
  },
  {
   "cell_type": "code",
   "execution_count": null,
   "metadata": {},
   "outputs": [],
   "source": []
  },
  {
   "cell_type": "code",
   "execution_count": null,
   "metadata": {},
   "outputs": [],
   "source": []
  },
  {
   "cell_type": "code",
   "execution_count": null,
   "metadata": {},
   "outputs": [],
   "source": []
  },
  {
   "cell_type": "code",
   "execution_count": null,
   "metadata": {},
   "outputs": [],
   "source": []
  },
  {
   "cell_type": "code",
   "execution_count": null,
   "metadata": {},
   "outputs": [],
   "source": []
  },
  {
   "cell_type": "code",
   "execution_count": null,
   "metadata": {},
   "outputs": [],
   "source": []
  },
  {
   "cell_type": "code",
   "execution_count": null,
   "metadata": {},
   "outputs": [],
   "source": []
  },
  {
   "cell_type": "code",
   "execution_count": null,
   "metadata": {},
   "outputs": [],
   "source": []
  },
  {
   "cell_type": "code",
   "execution_count": null,
   "metadata": {},
   "outputs": [],
   "source": []
  },
  {
   "cell_type": "code",
   "execution_count": null,
   "metadata": {},
   "outputs": [],
   "source": []
  },
  {
   "cell_type": "code",
   "execution_count": null,
   "metadata": {},
   "outputs": [],
   "source": []
  },
  {
   "cell_type": "code",
   "execution_count": null,
   "metadata": {},
   "outputs": [],
   "source": []
  },
  {
   "cell_type": "code",
   "execution_count": null,
   "metadata": {},
   "outputs": [],
   "source": []
  },
  {
   "cell_type": "code",
   "execution_count": null,
   "metadata": {},
   "outputs": [],
   "source": []
  },
  {
   "cell_type": "code",
   "execution_count": null,
   "metadata": {},
   "outputs": [],
   "source": []
  },
  {
   "cell_type": "code",
   "execution_count": null,
   "metadata": {},
   "outputs": [],
   "source": []
  },
  {
   "cell_type": "code",
   "execution_count": null,
   "metadata": {},
   "outputs": [],
   "source": []
  },
  {
   "cell_type": "code",
   "execution_count": null,
   "metadata": {},
   "outputs": [],
   "source": []
  },
  {
   "cell_type": "code",
   "execution_count": null,
   "metadata": {},
   "outputs": [],
   "source": []
  },
  {
   "cell_type": "code",
   "execution_count": null,
   "metadata": {},
   "outputs": [],
   "source": []
  },
  {
   "cell_type": "code",
   "execution_count": null,
   "metadata": {},
   "outputs": [],
   "source": []
  },
  {
   "cell_type": "code",
   "execution_count": null,
   "metadata": {},
   "outputs": [],
   "source": []
  },
  {
   "cell_type": "code",
   "execution_count": null,
   "metadata": {},
   "outputs": [],
   "source": []
  },
  {
   "cell_type": "code",
   "execution_count": null,
   "metadata": {},
   "outputs": [],
   "source": []
  },
  {
   "cell_type": "code",
   "execution_count": null,
   "metadata": {},
   "outputs": [],
   "source": []
  },
  {
   "cell_type": "code",
   "execution_count": null,
   "metadata": {},
   "outputs": [],
   "source": []
  },
  {
   "cell_type": "code",
   "execution_count": null,
   "metadata": {},
   "outputs": [],
   "source": []
  },
  {
   "cell_type": "code",
   "execution_count": null,
   "metadata": {},
   "outputs": [],
   "source": []
  },
  {
   "cell_type": "code",
   "execution_count": null,
   "metadata": {},
   "outputs": [],
   "source": []
  },
  {
   "cell_type": "code",
   "execution_count": null,
   "metadata": {},
   "outputs": [],
   "source": []
  },
  {
   "cell_type": "code",
   "execution_count": null,
   "metadata": {},
   "outputs": [],
   "source": []
  },
  {
   "cell_type": "code",
   "execution_count": null,
   "metadata": {},
   "outputs": [],
   "source": []
  },
  {
   "cell_type": "code",
   "execution_count": null,
   "metadata": {},
   "outputs": [],
   "source": []
  },
  {
   "cell_type": "code",
   "execution_count": null,
   "metadata": {},
   "outputs": [],
   "source": []
  },
  {
   "cell_type": "code",
   "execution_count": null,
   "metadata": {},
   "outputs": [],
   "source": []
  },
  {
   "cell_type": "code",
   "execution_count": null,
   "metadata": {},
   "outputs": [],
   "source": []
  },
  {
   "cell_type": "code",
   "execution_count": null,
   "metadata": {},
   "outputs": [],
   "source": []
  },
  {
   "cell_type": "code",
   "execution_count": null,
   "metadata": {},
   "outputs": [],
   "source": []
  },
  {
   "cell_type": "code",
   "execution_count": null,
   "metadata": {},
   "outputs": [],
   "source": []
  },
  {
   "cell_type": "code",
   "execution_count": null,
   "metadata": {},
   "outputs": [],
   "source": []
  }
 ],
 "metadata": {
  "kernelspec": {
   "display_name": "Python 3",
   "language": "python",
   "name": "python3"
  },
  "language_info": {
   "codemirror_mode": {
    "name": "ipython",
    "version": 3
   },
   "file_extension": ".py",
   "mimetype": "text/x-python",
   "name": "python",
   "nbconvert_exporter": "python",
   "pygments_lexer": "ipython3",
   "version": "3.7.6"
  }
 },
 "nbformat": 4,
 "nbformat_minor": 4
}
